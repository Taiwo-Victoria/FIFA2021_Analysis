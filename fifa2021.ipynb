{
 "cells": [
  {
   "attachments": {},
   "cell_type": "markdown",
   "metadata": {},
   "source": [
    "## FIFA 2021 DATA ANALYSIS \n",
    "#### Dataset: The data was gotten from kaggle and can be found [Here]('https://www.kaggle.com/datasets/yagunnersya/fifa-21-messy-raw-dataset-for-cleaning-exploring')\n",
    "\n",
    "> *The dataset consist of various players name including their nationality, club, age, height, assist, e.t.c.*"
   ]
  },
  {
   "attachments": {},
   "cell_type": "markdown",
   "metadata": {},
   "source": [
    "## Importing Necessary Libraries\n"
   ]
  },
  {
   "cell_type": "code",
   "execution_count": 1,
   "metadata": {},
   "outputs": [],
   "source": [
    "import pandas as pd\n",
    "import numpy as np\n",
    "import seaborn as sns\n",
    "import matplotlib.pyplot as plt\n",
    "import warnings\n",
    "%matplotlib inline "
   ]
  },
  {
   "attachments": {},
   "cell_type": "markdown",
   "metadata": {},
   "source": [
    "### Loading the dataset"
   ]
  },
  {
   "cell_type": "code",
   "execution_count": 2,
   "metadata": {},
   "outputs": [],
   "source": [
    "data = pd.read_csv('C:/Users/Taiwo_Victoria/Desktop/DATA ANALYSIS PROJECTS/FIFA 21 messy_raw dataset for cleaning exploring/dataset/fifa21_raw_data_v2.csv',low_memory = False )"
   ]
  },
  {
   "attachments": {},
   "cell_type": "markdown",
   "metadata": {},
   "source": [
    "## Data preparation "
   ]
  },
  {
   "cell_type": "code",
   "execution_count": 3,
   "metadata": {},
   "outputs": [
    {
     "data": {
      "text/html": [
       "<div>\n",
       "<style scoped>\n",
       "    .dataframe tbody tr th:only-of-type {\n",
       "        vertical-align: middle;\n",
       "    }\n",
       "\n",
       "    .dataframe tbody tr th {\n",
       "        vertical-align: top;\n",
       "    }\n",
       "\n",
       "    .dataframe thead th {\n",
       "        text-align: right;\n",
       "    }\n",
       "</style>\n",
       "<table border=\"1\" class=\"dataframe\">\n",
       "  <thead>\n",
       "    <tr style=\"text-align: right;\">\n",
       "      <th></th>\n",
       "      <th>ID</th>\n",
       "      <th>Name</th>\n",
       "      <th>LongName</th>\n",
       "      <th>photoUrl</th>\n",
       "      <th>playerUrl</th>\n",
       "      <th>Nationality</th>\n",
       "      <th>Age</th>\n",
       "      <th>↓OVA</th>\n",
       "      <th>POT</th>\n",
       "      <th>Club</th>\n",
       "      <th>...</th>\n",
       "      <th>A/W</th>\n",
       "      <th>D/W</th>\n",
       "      <th>IR</th>\n",
       "      <th>PAC</th>\n",
       "      <th>SHO</th>\n",
       "      <th>PAS</th>\n",
       "      <th>DRI</th>\n",
       "      <th>DEF</th>\n",
       "      <th>PHY</th>\n",
       "      <th>Hits</th>\n",
       "    </tr>\n",
       "  </thead>\n",
       "  <tbody>\n",
       "    <tr>\n",
       "      <th>0</th>\n",
       "      <td>158023</td>\n",
       "      <td>L. Messi</td>\n",
       "      <td>Lionel Messi</td>\n",
       "      <td>https://cdn.sofifa.com/players/158/023/21_60.png</td>\n",
       "      <td>http://sofifa.com/player/158023/lionel-messi/2...</td>\n",
       "      <td>Argentina</td>\n",
       "      <td>33</td>\n",
       "      <td>93</td>\n",
       "      <td>93</td>\n",
       "      <td>\\n\\n\\n\\nFC Barcelona</td>\n",
       "      <td>...</td>\n",
       "      <td>Medium</td>\n",
       "      <td>Low</td>\n",
       "      <td>5 ★</td>\n",
       "      <td>85</td>\n",
       "      <td>92</td>\n",
       "      <td>91</td>\n",
       "      <td>95</td>\n",
       "      <td>38</td>\n",
       "      <td>65</td>\n",
       "      <td>771</td>\n",
       "    </tr>\n",
       "    <tr>\n",
       "      <th>1</th>\n",
       "      <td>20801</td>\n",
       "      <td>Cristiano Ronaldo</td>\n",
       "      <td>C. Ronaldo dos Santos Aveiro</td>\n",
       "      <td>https://cdn.sofifa.com/players/020/801/21_60.png</td>\n",
       "      <td>http://sofifa.com/player/20801/c-ronaldo-dos-s...</td>\n",
       "      <td>Portugal</td>\n",
       "      <td>35</td>\n",
       "      <td>92</td>\n",
       "      <td>92</td>\n",
       "      <td>\\n\\n\\n\\nJuventus</td>\n",
       "      <td>...</td>\n",
       "      <td>High</td>\n",
       "      <td>Low</td>\n",
       "      <td>5 ★</td>\n",
       "      <td>89</td>\n",
       "      <td>93</td>\n",
       "      <td>81</td>\n",
       "      <td>89</td>\n",
       "      <td>35</td>\n",
       "      <td>77</td>\n",
       "      <td>562</td>\n",
       "    </tr>\n",
       "    <tr>\n",
       "      <th>2</th>\n",
       "      <td>200389</td>\n",
       "      <td>J. Oblak</td>\n",
       "      <td>Jan Oblak</td>\n",
       "      <td>https://cdn.sofifa.com/players/200/389/21_60.png</td>\n",
       "      <td>http://sofifa.com/player/200389/jan-oblak/210006/</td>\n",
       "      <td>Slovenia</td>\n",
       "      <td>27</td>\n",
       "      <td>91</td>\n",
       "      <td>93</td>\n",
       "      <td>\\n\\n\\n\\nAtlético Madrid</td>\n",
       "      <td>...</td>\n",
       "      <td>Medium</td>\n",
       "      <td>Medium</td>\n",
       "      <td>3 ★</td>\n",
       "      <td>87</td>\n",
       "      <td>92</td>\n",
       "      <td>78</td>\n",
       "      <td>90</td>\n",
       "      <td>52</td>\n",
       "      <td>90</td>\n",
       "      <td>150</td>\n",
       "    </tr>\n",
       "    <tr>\n",
       "      <th>3</th>\n",
       "      <td>192985</td>\n",
       "      <td>K. De Bruyne</td>\n",
       "      <td>Kevin De Bruyne</td>\n",
       "      <td>https://cdn.sofifa.com/players/192/985/21_60.png</td>\n",
       "      <td>http://sofifa.com/player/192985/kevin-de-bruyn...</td>\n",
       "      <td>Belgium</td>\n",
       "      <td>29</td>\n",
       "      <td>91</td>\n",
       "      <td>91</td>\n",
       "      <td>\\n\\n\\n\\nManchester City</td>\n",
       "      <td>...</td>\n",
       "      <td>High</td>\n",
       "      <td>High</td>\n",
       "      <td>4 ★</td>\n",
       "      <td>76</td>\n",
       "      <td>86</td>\n",
       "      <td>93</td>\n",
       "      <td>88</td>\n",
       "      <td>64</td>\n",
       "      <td>78</td>\n",
       "      <td>207</td>\n",
       "    </tr>\n",
       "    <tr>\n",
       "      <th>4</th>\n",
       "      <td>190871</td>\n",
       "      <td>Neymar Jr</td>\n",
       "      <td>Neymar da Silva Santos Jr.</td>\n",
       "      <td>https://cdn.sofifa.com/players/190/871/21_60.png</td>\n",
       "      <td>http://sofifa.com/player/190871/neymar-da-silv...</td>\n",
       "      <td>Brazil</td>\n",
       "      <td>28</td>\n",
       "      <td>91</td>\n",
       "      <td>91</td>\n",
       "      <td>\\n\\n\\n\\nParis Saint-Germain</td>\n",
       "      <td>...</td>\n",
       "      <td>High</td>\n",
       "      <td>Medium</td>\n",
       "      <td>5 ★</td>\n",
       "      <td>91</td>\n",
       "      <td>85</td>\n",
       "      <td>86</td>\n",
       "      <td>94</td>\n",
       "      <td>36</td>\n",
       "      <td>59</td>\n",
       "      <td>595</td>\n",
       "    </tr>\n",
       "  </tbody>\n",
       "</table>\n",
       "<p>5 rows × 77 columns</p>\n",
       "</div>"
      ],
      "text/plain": [
       "       ID               Name                      LongName  \\\n",
       "0  158023           L. Messi                  Lionel Messi   \n",
       "1   20801  Cristiano Ronaldo  C. Ronaldo dos Santos Aveiro   \n",
       "2  200389           J. Oblak                     Jan Oblak   \n",
       "3  192985       K. De Bruyne               Kevin De Bruyne   \n",
       "4  190871          Neymar Jr    Neymar da Silva Santos Jr.   \n",
       "\n",
       "                                           photoUrl  \\\n",
       "0  https://cdn.sofifa.com/players/158/023/21_60.png   \n",
       "1  https://cdn.sofifa.com/players/020/801/21_60.png   \n",
       "2  https://cdn.sofifa.com/players/200/389/21_60.png   \n",
       "3  https://cdn.sofifa.com/players/192/985/21_60.png   \n",
       "4  https://cdn.sofifa.com/players/190/871/21_60.png   \n",
       "\n",
       "                                           playerUrl Nationality  Age  ↓OVA  \\\n",
       "0  http://sofifa.com/player/158023/lionel-messi/2...   Argentina   33    93   \n",
       "1  http://sofifa.com/player/20801/c-ronaldo-dos-s...    Portugal   35    92   \n",
       "2  http://sofifa.com/player/200389/jan-oblak/210006/    Slovenia   27    91   \n",
       "3  http://sofifa.com/player/192985/kevin-de-bruyn...     Belgium   29    91   \n",
       "4  http://sofifa.com/player/190871/neymar-da-silv...      Brazil   28    91   \n",
       "\n",
       "   POT                         Club  ...     A/W     D/W   IR PAC SHO  PAS  \\\n",
       "0   93         \\n\\n\\n\\nFC Barcelona  ...  Medium     Low  5 ★  85  92   91   \n",
       "1   92             \\n\\n\\n\\nJuventus  ...    High     Low  5 ★  89  93   81   \n",
       "2   93      \\n\\n\\n\\nAtlético Madrid  ...  Medium  Medium  3 ★  87  92   78   \n",
       "3   91      \\n\\n\\n\\nManchester City  ...    High    High  4 ★  76  86   93   \n",
       "4   91  \\n\\n\\n\\nParis Saint-Germain  ...    High  Medium  5 ★  91  85   86   \n",
       "\n",
       "  DRI DEF PHY Hits  \n",
       "0  95  38  65  771  \n",
       "1  89  35  77  562  \n",
       "2  90  52  90  150  \n",
       "3  88  64  78  207  \n",
       "4  94  36  59  595  \n",
       "\n",
       "[5 rows x 77 columns]"
      ]
     },
     "execution_count": 3,
     "metadata": {},
     "output_type": "execute_result"
    }
   ],
   "source": [
    "data.head()"
   ]
  },
  {
   "cell_type": "code",
   "execution_count": 4,
   "metadata": {},
   "outputs": [
    {
     "data": {
      "text/plain": [
       "(18979, 77)"
      ]
     },
     "execution_count": 4,
     "metadata": {},
     "output_type": "execute_result"
    }
   ],
   "source": [
    "data.shape"
   ]
  },
  {
   "attachments": {},
   "cell_type": "markdown",
   "metadata": {},
   "source": [
    "> There are 77 columns in the dataset. Since all the columns will not be considered, some of the columns will be extracted out."
   ]
  },
  {
   "cell_type": "code",
   "execution_count": 5,
   "metadata": {},
   "outputs": [
    {
     "name": "stdout",
     "output_type": "stream",
     "text": [
      "<class 'pandas.core.frame.DataFrame'>\n",
      "RangeIndex: 18979 entries, 0 to 18978\n",
      "Data columns (total 77 columns):\n",
      " #   Column            Non-Null Count  Dtype \n",
      "---  ------            --------------  ----- \n",
      " 0   ID                18979 non-null  int64 \n",
      " 1   Name              18979 non-null  object\n",
      " 2   LongName          18979 non-null  object\n",
      " 3   photoUrl          18979 non-null  object\n",
      " 4   playerUrl         18979 non-null  object\n",
      " 5   Nationality       18979 non-null  object\n",
      " 6   Age               18979 non-null  int64 \n",
      " 7   ↓OVA              18979 non-null  int64 \n",
      " 8   POT               18979 non-null  int64 \n",
      " 9   Club              18979 non-null  object\n",
      " 10  Contract          18979 non-null  object\n",
      " 11  Positions         18979 non-null  object\n",
      " 12  Height            18979 non-null  object\n",
      " 13  Weight            18979 non-null  object\n",
      " 14  Preferred Foot    18979 non-null  object\n",
      " 15  BOV               18979 non-null  int64 \n",
      " 16  Best Position     18979 non-null  object\n",
      " 17  Joined            18979 non-null  object\n",
      " 18  Loan Date End     1013 non-null   object\n",
      " 19  Value             18979 non-null  object\n",
      " 20  Wage              18979 non-null  object\n",
      " 21  Release Clause    18979 non-null  object\n",
      " 22  Attacking         18979 non-null  int64 \n",
      " 23  Crossing          18979 non-null  int64 \n",
      " 24  Finishing         18979 non-null  int64 \n",
      " 25  Heading Accuracy  18979 non-null  int64 \n",
      " 26  Short Passing     18979 non-null  int64 \n",
      " 27  Volleys           18979 non-null  int64 \n",
      " 28  Skill             18979 non-null  int64 \n",
      " 29  Dribbling         18979 non-null  int64 \n",
      " 30  Curve             18979 non-null  int64 \n",
      " 31  FK Accuracy       18979 non-null  int64 \n",
      " 32  Long Passing      18979 non-null  int64 \n",
      " 33  Ball Control      18979 non-null  int64 \n",
      " 34  Movement          18979 non-null  int64 \n",
      " 35  Acceleration      18979 non-null  int64 \n",
      " 36  Sprint Speed      18979 non-null  int64 \n",
      " 37  Agility           18979 non-null  int64 \n",
      " 38  Reactions         18979 non-null  int64 \n",
      " 39  Balance           18979 non-null  int64 \n",
      " 40  Power             18979 non-null  int64 \n",
      " 41  Shot Power        18979 non-null  int64 \n",
      " 42  Jumping           18979 non-null  int64 \n",
      " 43  Stamina           18979 non-null  int64 \n",
      " 44  Strength          18979 non-null  int64 \n",
      " 45  Long Shots        18979 non-null  int64 \n",
      " 46  Mentality         18979 non-null  int64 \n",
      " 47  Aggression        18979 non-null  int64 \n",
      " 48  Interceptions     18979 non-null  int64 \n",
      " 49  Positioning       18979 non-null  int64 \n",
      " 50  Vision            18979 non-null  int64 \n",
      " 51  Penalties         18979 non-null  int64 \n",
      " 52  Composure         18979 non-null  int64 \n",
      " 53  Defending         18979 non-null  int64 \n",
      " 54  Marking           18979 non-null  int64 \n",
      " 55  Standing Tackle   18979 non-null  int64 \n",
      " 56  Sliding Tackle    18979 non-null  int64 \n",
      " 57  Goalkeeping       18979 non-null  int64 \n",
      " 58  GK Diving         18979 non-null  int64 \n",
      " 59  GK Handling       18979 non-null  int64 \n",
      " 60  GK Kicking        18979 non-null  int64 \n",
      " 61  GK Positioning    18979 non-null  int64 \n",
      " 62  GK Reflexes       18979 non-null  int64 \n",
      " 63  Total Stats       18979 non-null  int64 \n",
      " 64  Base Stats        18979 non-null  int64 \n",
      " 65  W/F               18979 non-null  object\n",
      " 66  SM                18979 non-null  object\n",
      " 67  A/W               18979 non-null  object\n",
      " 68  D/W               18979 non-null  object\n",
      " 69  IR                18979 non-null  object\n",
      " 70  PAC               18979 non-null  int64 \n",
      " 71  SHO               18979 non-null  int64 \n",
      " 72  PAS               18979 non-null  int64 \n",
      " 73  DRI               18979 non-null  int64 \n",
      " 74  DEF               18979 non-null  int64 \n",
      " 75  PHY               18979 non-null  int64 \n",
      " 76  Hits              16384 non-null  object\n",
      "dtypes: int64(54), object(23)\n",
      "memory usage: 11.1+ MB\n"
     ]
    }
   ],
   "source": [
    "data.info()"
   ]
  },
  {
   "attachments": {},
   "cell_type": "markdown",
   "metadata": {},
   "source": [
    "From this analysis, there are some questions that will be answered from the dataset.\n",
    "\n",
    "Questions:\n",
    "\n",
    "*1.* Who is the oldest fifa21 player?\n",
    "\n",
    "*2.* Who are the 10 most paid players? \n",
    "\n",
    "*3.* Which players have been playing at a club for more than 10 years.\n",
    "\n",
    "*4.* Which players are highly valuable but still underpaid(on low wages).\n",
    "\n",
    "*5.* What is the highest player loan period?\n",
    "\n",
    "*6.* Who is the tallest player?\n",
    "\n",
    "*7.* Which player as the longest conntract with his club?\n",
    "\n",
    "*8.* Who are the best players based on their positioning?\n",
    "\n",
    "*9.* How many africans players are playing in Europe?\n",
    "\n",
    "*10.* Who is the heaviest player?\n",
    "\n"
   ]
  },
  {
   "cell_type": "code",
   "execution_count": 6,
   "metadata": {},
   "outputs": [],
   "source": [
    "df = data[['LongName', 'Nationality', 'Age', '↓OVA', 'Club', 'Joined', 'Contract', 'Height', 'Weight', 'Preferred Foot', 'Best Position','Value', 'Loan Date End', 'Wage']]"
   ]
  },
  {
   "cell_type": "code",
   "execution_count": 7,
   "metadata": {},
   "outputs": [
    {
     "data": {
      "text/plain": [
       "(18979, 14)"
      ]
     },
     "execution_count": 7,
     "metadata": {},
     "output_type": "execute_result"
    }
   ],
   "source": [
    "df.shape"
   ]
  },
  {
   "cell_type": "code",
   "execution_count": 8,
   "metadata": {},
   "outputs": [
    {
     "name": "stdout",
     "output_type": "stream",
     "text": [
      "<class 'pandas.core.frame.DataFrame'>\n",
      "RangeIndex: 18979 entries, 0 to 18978\n",
      "Data columns (total 14 columns):\n",
      " #   Column          Non-Null Count  Dtype \n",
      "---  ------          --------------  ----- \n",
      " 0   LongName        18979 non-null  object\n",
      " 1   Nationality     18979 non-null  object\n",
      " 2   Age             18979 non-null  int64 \n",
      " 3   ↓OVA            18979 non-null  int64 \n",
      " 4   Club            18979 non-null  object\n",
      " 5   Joined          18979 non-null  object\n",
      " 6   Contract        18979 non-null  object\n",
      " 7   Height          18979 non-null  object\n",
      " 8   Weight          18979 non-null  object\n",
      " 9   Preferred Foot  18979 non-null  object\n",
      " 10  Best Position   18979 non-null  object\n",
      " 11  Value           18979 non-null  object\n",
      " 12  Loan Date End   1013 non-null   object\n",
      " 13  Wage            18979 non-null  object\n",
      "dtypes: int64(2), object(12)\n",
      "memory usage: 2.0+ MB\n"
     ]
    }
   ],
   "source": [
    "df.info()"
   ]
  },
  {
   "attachments": {},
   "cell_type": "markdown",
   "metadata": {},
   "source": [
    "## Data Cleaning"
   ]
  },
  {
   "cell_type": "code",
   "execution_count": 9,
   "metadata": {},
   "outputs": [
    {
     "data": {
      "text/plain": [
       "LongName              0\n",
       "Nationality           0\n",
       "Age                   0\n",
       "↓OVA                  0\n",
       "Club                  0\n",
       "Joined                0\n",
       "Contract              0\n",
       "Height                0\n",
       "Weight                0\n",
       "Preferred Foot        0\n",
       "Best Position         0\n",
       "Value                 0\n",
       "Loan Date End     17966\n",
       "Wage                  0\n",
       "dtype: int64"
      ]
     },
     "execution_count": 9,
     "metadata": {},
     "output_type": "execute_result"
    }
   ],
   "source": [
    "df.isnull().sum()"
   ]
  },
  {
   "attachments": {},
   "cell_type": "markdown",
   "metadata": {},
   "source": [
    "#### Longname"
   ]
  },
  {
   "cell_type": "code",
   "execution_count": 10,
   "metadata": {},
   "outputs": [
    {
     "name": "stdout",
     "output_type": "stream",
     "text": [
      "<class 'pandas.core.series.Series'>\n",
      "RangeIndex: 18979 entries, 0 to 18978\n",
      "Series name: LongName\n",
      "Non-Null Count  Dtype \n",
      "--------------  ----- \n",
      "18979 non-null  object\n",
      "dtypes: object(1)\n",
      "memory usage: 148.4+ KB\n"
     ]
    }
   ],
   "source": [
    "# checking for null values\n",
    "df['LongName'].info()"
   ]
  },
  {
   "cell_type": "code",
   "execution_count": 11,
   "metadata": {},
   "outputs": [
    {
     "data": {
      "text/plain": [
       "18852"
      ]
     },
     "execution_count": 11,
     "metadata": {},
     "output_type": "execute_result"
    }
   ],
   "source": [
    "#checking for all unique values in the column\n",
    "df['LongName'].nunique()"
   ]
  },
  {
   "cell_type": "code",
   "execution_count": 12,
   "metadata": {},
   "outputs": [
    {
     "data": {
      "text/html": [
       "<div>\n",
       "<style scoped>\n",
       "    .dataframe tbody tr th:only-of-type {\n",
       "        vertical-align: middle;\n",
       "    }\n",
       "\n",
       "    .dataframe tbody tr th {\n",
       "        vertical-align: top;\n",
       "    }\n",
       "\n",
       "    .dataframe thead th {\n",
       "        text-align: right;\n",
       "    }\n",
       "</style>\n",
       "<table border=\"1\" class=\"dataframe\">\n",
       "  <thead>\n",
       "    <tr style=\"text-align: right;\">\n",
       "      <th></th>\n",
       "      <th>LongName</th>\n",
       "      <th>Nationality</th>\n",
       "      <th>Age</th>\n",
       "      <th>↓OVA</th>\n",
       "      <th>Club</th>\n",
       "      <th>Joined</th>\n",
       "      <th>Contract</th>\n",
       "      <th>Height</th>\n",
       "      <th>Weight</th>\n",
       "      <th>Preferred Foot</th>\n",
       "      <th>Best Position</th>\n",
       "      <th>Value</th>\n",
       "      <th>Loan Date End</th>\n",
       "      <th>Wage</th>\n",
       "    </tr>\n",
       "  </thead>\n",
       "  <tbody>\n",
       "    <tr>\n",
       "      <th>1239</th>\n",
       "      <td>Lisandro López</td>\n",
       "      <td>Argentina</td>\n",
       "      <td>30</td>\n",
       "      <td>76</td>\n",
       "      <td>\\n\\n\\n\\nBoca Juniors</td>\n",
       "      <td>Jan 1, 2020</td>\n",
       "      <td>2020 ~ 2023</td>\n",
       "      <td>188cm</td>\n",
       "      <td>80kg</td>\n",
       "      <td>Right</td>\n",
       "      <td>CB</td>\n",
       "      <td>€6M</td>\n",
       "      <td>NaN</td>\n",
       "      <td>€16K</td>\n",
       "    </tr>\n",
       "    <tr>\n",
       "      <th>2511</th>\n",
       "      <td>Ben Davies</td>\n",
       "      <td>England</td>\n",
       "      <td>24</td>\n",
       "      <td>73</td>\n",
       "      <td>\\n\\n\\n\\nPreston North End</td>\n",
       "      <td>Jan 1, 2013</td>\n",
       "      <td>2013 ~ 2021</td>\n",
       "      <td>185cm</td>\n",
       "      <td>74kg</td>\n",
       "      <td>Left</td>\n",
       "      <td>CB</td>\n",
       "      <td>€4.4M</td>\n",
       "      <td>NaN</td>\n",
       "      <td>€18K</td>\n",
       "    </tr>\n",
       "    <tr>\n",
       "      <th>2517</th>\n",
       "      <td>Gonzalo Castro</td>\n",
       "      <td>Germany</td>\n",
       "      <td>33</td>\n",
       "      <td>73</td>\n",
       "      <td>\\n\\n\\n\\nVfB Stuttgart</td>\n",
       "      <td>Jul 1, 2018</td>\n",
       "      <td>2018 ~ 2021</td>\n",
       "      <td>172cm</td>\n",
       "      <td>72kg</td>\n",
       "      <td>Right</td>\n",
       "      <td>CM</td>\n",
       "      <td>€1.9M</td>\n",
       "      <td>NaN</td>\n",
       "      <td>€20K</td>\n",
       "    </tr>\n",
       "    <tr>\n",
       "      <th>2957</th>\n",
       "      <td>Claudio Bravo</td>\n",
       "      <td>Argentina</td>\n",
       "      <td>23</td>\n",
       "      <td>73</td>\n",
       "      <td>\\n\\n\\n\\nClub Atlético Banfield</td>\n",
       "      <td>Jan 4, 2016</td>\n",
       "      <td>2016 ~ 2021</td>\n",
       "      <td>170cm</td>\n",
       "      <td>69kg</td>\n",
       "      <td>Left</td>\n",
       "      <td>LWB</td>\n",
       "      <td>€6.5M</td>\n",
       "      <td>NaN</td>\n",
       "      <td>€10K</td>\n",
       "    </tr>\n",
       "    <tr>\n",
       "      <th>4275</th>\n",
       "      <td>Ladislav Krejčí</td>\n",
       "      <td>Czech Republic</td>\n",
       "      <td>21</td>\n",
       "      <td>71</td>\n",
       "      <td>\\n\\n\\n\\nSparta Praha</td>\n",
       "      <td>Jul 2, 2019</td>\n",
       "      <td>2019 ~ 2023</td>\n",
       "      <td>190cm</td>\n",
       "      <td>86kg</td>\n",
       "      <td>Left</td>\n",
       "      <td>CB</td>\n",
       "      <td>€3.6M</td>\n",
       "      <td>NaN</td>\n",
       "      <td>€500</td>\n",
       "    </tr>\n",
       "    <tr>\n",
       "      <th>...</th>\n",
       "      <td>...</td>\n",
       "      <td>...</td>\n",
       "      <td>...</td>\n",
       "      <td>...</td>\n",
       "      <td>...</td>\n",
       "      <td>...</td>\n",
       "      <td>...</td>\n",
       "      <td>...</td>\n",
       "      <td>...</td>\n",
       "      <td>...</td>\n",
       "      <td>...</td>\n",
       "      <td>...</td>\n",
       "      <td>...</td>\n",
       "      <td>...</td>\n",
       "    </tr>\n",
       "    <tr>\n",
       "      <th>18707</th>\n",
       "      <td>Peng Wang</td>\n",
       "      <td>China PR</td>\n",
       "      <td>22</td>\n",
       "      <td>51</td>\n",
       "      <td>\\n\\n\\n\\nGuangzhou R&amp;F FC</td>\n",
       "      <td>Aug 10, 2020</td>\n",
       "      <td>2020 ~ 2023</td>\n",
       "      <td>176cm</td>\n",
       "      <td>69kg</td>\n",
       "      <td>Right</td>\n",
       "      <td>CAM</td>\n",
       "      <td>€130K</td>\n",
       "      <td>NaN</td>\n",
       "      <td>€2K</td>\n",
       "    </tr>\n",
       "    <tr>\n",
       "      <th>18765</th>\n",
       "      <td>Alfie Jones</td>\n",
       "      <td>England</td>\n",
       "      <td>19</td>\n",
       "      <td>50</td>\n",
       "      <td>\\n\\n\\n\\nCrawley Town</td>\n",
       "      <td>Aug 8, 2019</td>\n",
       "      <td>2019 ~ 2021</td>\n",
       "      <td>186cm</td>\n",
       "      <td>73kg</td>\n",
       "      <td>Right</td>\n",
       "      <td>GK</td>\n",
       "      <td>€110K</td>\n",
       "      <td>NaN</td>\n",
       "      <td>€500</td>\n",
       "    </tr>\n",
       "    <tr>\n",
       "      <th>18782</th>\n",
       "      <td>Joe Wright</td>\n",
       "      <td>England</td>\n",
       "      <td>19</td>\n",
       "      <td>50</td>\n",
       "      <td>\\n\\n\\n\\nMillwall</td>\n",
       "      <td>Jul 1, 2019</td>\n",
       "      <td>2019 ~ 2024</td>\n",
       "      <td>185cm</td>\n",
       "      <td>82kg</td>\n",
       "      <td>Right</td>\n",
       "      <td>GK</td>\n",
       "      <td>€100K</td>\n",
       "      <td>NaN</td>\n",
       "      <td>€650</td>\n",
       "    </tr>\n",
       "    <tr>\n",
       "      <th>18822</th>\n",
       "      <td>Mark Byrne</td>\n",
       "      <td>Republic of Ireland</td>\n",
       "      <td>19</td>\n",
       "      <td>50</td>\n",
       "      <td>\\n\\n\\n\\nSligo Rovers</td>\n",
       "      <td>Feb 13, 2020</td>\n",
       "      <td>2020 ~ 2020</td>\n",
       "      <td>178cm</td>\n",
       "      <td>74kg</td>\n",
       "      <td>Right</td>\n",
       "      <td>CAM</td>\n",
       "      <td>€110K</td>\n",
       "      <td>NaN</td>\n",
       "      <td>€500</td>\n",
       "    </tr>\n",
       "    <tr>\n",
       "      <th>18865</th>\n",
       "      <td>Wei Zhang</td>\n",
       "      <td>China PR</td>\n",
       "      <td>20</td>\n",
       "      <td>49</td>\n",
       "      <td>\\n\\n\\n\\nHebei China Fortune FC</td>\n",
       "      <td>Jan 1, 2019</td>\n",
       "      <td>2019 ~ 2024</td>\n",
       "      <td>186cm</td>\n",
       "      <td>74kg</td>\n",
       "      <td>Right</td>\n",
       "      <td>CDM</td>\n",
       "      <td>€100K</td>\n",
       "      <td>NaN</td>\n",
       "      <td>€1K</td>\n",
       "    </tr>\n",
       "  </tbody>\n",
       "</table>\n",
       "<p>127 rows × 14 columns</p>\n",
       "</div>"
      ],
      "text/plain": [
       "              LongName          Nationality  Age  ↓OVA  \\\n",
       "1239    Lisandro López            Argentina   30    76   \n",
       "2511        Ben Davies              England   24    73   \n",
       "2517    Gonzalo Castro              Germany   33    73   \n",
       "2957     Claudio Bravo            Argentina   23    73   \n",
       "4275   Ladislav Krejčí       Czech Republic   21    71   \n",
       "...                ...                  ...  ...   ...   \n",
       "18707        Peng Wang             China PR   22    51   \n",
       "18765      Alfie Jones              England   19    50   \n",
       "18782       Joe Wright              England   19    50   \n",
       "18822       Mark Byrne  Republic of Ireland   19    50   \n",
       "18865        Wei Zhang             China PR   20    49   \n",
       "\n",
       "                                 Club        Joined     Contract Height  \\\n",
       "1239             \\n\\n\\n\\nBoca Juniors   Jan 1, 2020  2020 ~ 2023  188cm   \n",
       "2511        \\n\\n\\n\\nPreston North End   Jan 1, 2013  2013 ~ 2021  185cm   \n",
       "2517            \\n\\n\\n\\nVfB Stuttgart   Jul 1, 2018  2018 ~ 2021  172cm   \n",
       "2957   \\n\\n\\n\\nClub Atlético Banfield   Jan 4, 2016  2016 ~ 2021  170cm   \n",
       "4275             \\n\\n\\n\\nSparta Praha   Jul 2, 2019  2019 ~ 2023  190cm   \n",
       "...                               ...           ...          ...    ...   \n",
       "18707        \\n\\n\\n\\nGuangzhou R&F FC  Aug 10, 2020  2020 ~ 2023  176cm   \n",
       "18765            \\n\\n\\n\\nCrawley Town   Aug 8, 2019  2019 ~ 2021  186cm   \n",
       "18782                \\n\\n\\n\\nMillwall   Jul 1, 2019  2019 ~ 2024  185cm   \n",
       "18822            \\n\\n\\n\\nSligo Rovers  Feb 13, 2020  2020 ~ 2020  178cm   \n",
       "18865  \\n\\n\\n\\nHebei China Fortune FC   Jan 1, 2019  2019 ~ 2024  186cm   \n",
       "\n",
       "      Weight Preferred Foot Best Position  Value Loan Date End  Wage  \n",
       "1239    80kg          Right            CB    €6M           NaN  €16K  \n",
       "2511    74kg           Left            CB  €4.4M           NaN  €18K  \n",
       "2517    72kg          Right            CM  €1.9M           NaN  €20K  \n",
       "2957    69kg           Left           LWB  €6.5M           NaN  €10K  \n",
       "4275    86kg           Left            CB  €3.6M           NaN  €500  \n",
       "...      ...            ...           ...    ...           ...   ...  \n",
       "18707   69kg          Right           CAM  €130K           NaN   €2K  \n",
       "18765   73kg          Right            GK  €110K           NaN  €500  \n",
       "18782   82kg          Right            GK  €100K           NaN  €650  \n",
       "18822   74kg          Right           CAM  €110K           NaN  €500  \n",
       "18865   74kg          Right           CDM  €100K           NaN   €1K  \n",
       "\n",
       "[127 rows x 14 columns]"
      ]
     },
     "execution_count": 12,
     "metadata": {},
     "output_type": "execute_result"
    }
   ],
   "source": [
    "#printing out all repeated values in the row\n",
    "df[df['LongName'].duplicated()]"
   ]
  },
  {
   "cell_type": "code",
   "execution_count": 13,
   "metadata": {},
   "outputs": [],
   "source": [
    "#deleting all duplicated values while keeping the original value\n",
    "df = df.drop_duplicates(subset = ['LongName'])"
   ]
  },
  {
   "cell_type": "code",
   "execution_count": 14,
   "metadata": {},
   "outputs": [
    {
     "data": {
      "text/plain": [
       "0                    Lionel Messi\n",
       "1    C. Ronaldo dos Santos Aveiro\n",
       "2                       Jan Oblak\n",
       "3                 Kevin De Bruyne\n",
       "4      Neymar da Silva Santos Jr.\n",
       "Name: LongName, dtype: object"
      ]
     },
     "execution_count": 14,
     "metadata": {},
     "output_type": "execute_result"
    }
   ],
   "source": [
    "df['LongName'].head()"
   ]
  },
  {
   "cell_type": "code",
   "execution_count": 15,
   "metadata": {},
   "outputs": [
    {
     "data": {
      "text/html": [
       "<div>\n",
       "<style scoped>\n",
       "    .dataframe tbody tr th:only-of-type {\n",
       "        vertical-align: middle;\n",
       "    }\n",
       "\n",
       "    .dataframe tbody tr th {\n",
       "        vertical-align: top;\n",
       "    }\n",
       "\n",
       "    .dataframe thead th {\n",
       "        text-align: right;\n",
       "    }\n",
       "</style>\n",
       "<table border=\"1\" class=\"dataframe\">\n",
       "  <thead>\n",
       "    <tr style=\"text-align: right;\">\n",
       "      <th></th>\n",
       "      <th>LongName</th>\n",
       "      <th>Nationality</th>\n",
       "      <th>Age</th>\n",
       "      <th>↓OVA</th>\n",
       "      <th>Club</th>\n",
       "      <th>Joined</th>\n",
       "      <th>Contract</th>\n",
       "      <th>Height</th>\n",
       "      <th>Weight</th>\n",
       "      <th>Preferred Foot</th>\n",
       "      <th>Best Position</th>\n",
       "      <th>Value</th>\n",
       "      <th>Loan Date End</th>\n",
       "      <th>Wage</th>\n",
       "    </tr>\n",
       "  </thead>\n",
       "  <tbody>\n",
       "  </tbody>\n",
       "</table>\n",
       "</div>"
      ],
      "text/plain": [
       "Empty DataFrame\n",
       "Columns: [LongName, Nationality, Age, ↓OVA, Club, Joined, Contract, Height, Weight, Preferred Foot, Best Position, Value, Loan Date End, Wage]\n",
       "Index: []"
      ]
     },
     "execution_count": 15,
     "metadata": {},
     "output_type": "execute_result"
    }
   ],
   "source": [
    "#verifying that there is no duplicated values in the column.\n",
    "df[df['LongName'].duplicated()]"
   ]
  },
  {
   "attachments": {},
   "cell_type": "markdown",
   "metadata": {},
   "source": [
    "#### Nationality"
   ]
  },
  {
   "cell_type": "code",
   "execution_count": 16,
   "metadata": {},
   "outputs": [
    {
     "name": "stdout",
     "output_type": "stream",
     "text": [
      "<class 'pandas.core.series.Series'>\n",
      "Int64Index: 18852 entries, 0 to 18978\n",
      "Series name: Nationality\n",
      "Non-Null Count  Dtype \n",
      "--------------  ----- \n",
      "18852 non-null  object\n",
      "dtypes: object(1)\n",
      "memory usage: 294.6+ KB\n"
     ]
    }
   ],
   "source": [
    "df['Nationality'].info()"
   ]
  },
  {
   "cell_type": "code",
   "execution_count": 17,
   "metadata": {},
   "outputs": [
    {
     "data": {
      "text/plain": [
       "164"
      ]
     },
     "execution_count": 17,
     "metadata": {},
     "output_type": "execute_result"
    }
   ],
   "source": [
    "df['Nationality'].nunique()"
   ]
  },
  {
   "cell_type": "code",
   "execution_count": 18,
   "metadata": {},
   "outputs": [
    {
     "data": {
      "text/plain": [
       "0    Argentina\n",
       "1     Portugal\n",
       "2     Slovenia\n",
       "3      Belgium\n",
       "4       Brazil\n",
       "Name: Nationality, dtype: object"
      ]
     },
     "execution_count": 18,
     "metadata": {},
     "output_type": "execute_result"
    }
   ],
   "source": [
    "df['Nationality'].head()"
   ]
  },
  {
   "cell_type": "code",
   "execution_count": 19,
   "metadata": {},
   "outputs": [
    {
     "data": {
      "text/plain": [
       "(18852,)"
      ]
     },
     "execution_count": 19,
     "metadata": {},
     "output_type": "execute_result"
    }
   ],
   "source": [
    "df['Nationality'].shape"
   ]
  },
  {
   "cell_type": "code",
   "execution_count": 20,
   "metadata": {},
   "outputs": [
    {
     "data": {
      "text/plain": [
       "0"
      ]
     },
     "execution_count": 20,
     "metadata": {},
     "output_type": "execute_result"
    }
   ],
   "source": [
    "df['Nationality'].isnull().sum()"
   ]
  },
  {
   "attachments": {},
   "cell_type": "markdown",
   "metadata": {},
   "source": [
    "*It shows that all the 18852 players under consideration has their own nationality known.*"
   ]
  },
  {
   "cell_type": "code",
   "execution_count": 21,
   "metadata": {},
   "outputs": [
    {
     "data": {
      "text/html": [
       "<div>\n",
       "<style scoped>\n",
       "    .dataframe tbody tr th:only-of-type {\n",
       "        vertical-align: middle;\n",
       "    }\n",
       "\n",
       "    .dataframe tbody tr th {\n",
       "        vertical-align: top;\n",
       "    }\n",
       "\n",
       "    .dataframe thead th {\n",
       "        text-align: right;\n",
       "    }\n",
       "</style>\n",
       "<table border=\"1\" class=\"dataframe\">\n",
       "  <thead>\n",
       "    <tr style=\"text-align: right;\">\n",
       "      <th></th>\n",
       "      <th>LongName</th>\n",
       "      <th>Nationality</th>\n",
       "      <th>Age</th>\n",
       "      <th>↓OVA</th>\n",
       "      <th>Club</th>\n",
       "      <th>Joined</th>\n",
       "      <th>Contract</th>\n",
       "      <th>Height</th>\n",
       "      <th>Weight</th>\n",
       "      <th>Preferred Foot</th>\n",
       "      <th>Best Position</th>\n",
       "      <th>Value</th>\n",
       "      <th>Loan Date End</th>\n",
       "      <th>Wage</th>\n",
       "    </tr>\n",
       "  </thead>\n",
       "  <tbody>\n",
       "    <tr>\n",
       "      <th>0</th>\n",
       "      <td>Lionel Messi</td>\n",
       "      <td>Argentina</td>\n",
       "      <td>33</td>\n",
       "      <td>93</td>\n",
       "      <td>\\n\\n\\n\\nFC Barcelona</td>\n",
       "      <td>Jul 1, 2004</td>\n",
       "      <td>2004 ~ 2021</td>\n",
       "      <td>170cm</td>\n",
       "      <td>72kg</td>\n",
       "      <td>Left</td>\n",
       "      <td>RW</td>\n",
       "      <td>€103.5M</td>\n",
       "      <td>NaN</td>\n",
       "      <td>€560K</td>\n",
       "    </tr>\n",
       "    <tr>\n",
       "      <th>1</th>\n",
       "      <td>C. Ronaldo dos Santos Aveiro</td>\n",
       "      <td>Portugal</td>\n",
       "      <td>35</td>\n",
       "      <td>92</td>\n",
       "      <td>\\n\\n\\n\\nJuventus</td>\n",
       "      <td>Jul 10, 2018</td>\n",
       "      <td>2018 ~ 2022</td>\n",
       "      <td>187cm</td>\n",
       "      <td>83kg</td>\n",
       "      <td>Right</td>\n",
       "      <td>ST</td>\n",
       "      <td>€63M</td>\n",
       "      <td>NaN</td>\n",
       "      <td>€220K</td>\n",
       "    </tr>\n",
       "    <tr>\n",
       "      <th>2</th>\n",
       "      <td>Jan Oblak</td>\n",
       "      <td>Slovenia</td>\n",
       "      <td>27</td>\n",
       "      <td>91</td>\n",
       "      <td>\\n\\n\\n\\nAtlético Madrid</td>\n",
       "      <td>Jul 16, 2014</td>\n",
       "      <td>2014 ~ 2023</td>\n",
       "      <td>188cm</td>\n",
       "      <td>87kg</td>\n",
       "      <td>Right</td>\n",
       "      <td>GK</td>\n",
       "      <td>€120M</td>\n",
       "      <td>NaN</td>\n",
       "      <td>€125K</td>\n",
       "    </tr>\n",
       "    <tr>\n",
       "      <th>3</th>\n",
       "      <td>Kevin De Bruyne</td>\n",
       "      <td>Belgium</td>\n",
       "      <td>29</td>\n",
       "      <td>91</td>\n",
       "      <td>\\n\\n\\n\\nManchester City</td>\n",
       "      <td>Aug 30, 2015</td>\n",
       "      <td>2015 ~ 2023</td>\n",
       "      <td>181cm</td>\n",
       "      <td>70kg</td>\n",
       "      <td>Right</td>\n",
       "      <td>CAM</td>\n",
       "      <td>€129M</td>\n",
       "      <td>NaN</td>\n",
       "      <td>€370K</td>\n",
       "    </tr>\n",
       "    <tr>\n",
       "      <th>4</th>\n",
       "      <td>Neymar da Silva Santos Jr.</td>\n",
       "      <td>Brazil</td>\n",
       "      <td>28</td>\n",
       "      <td>91</td>\n",
       "      <td>\\n\\n\\n\\nParis Saint-Germain</td>\n",
       "      <td>Aug 3, 2017</td>\n",
       "      <td>2017 ~ 2022</td>\n",
       "      <td>175cm</td>\n",
       "      <td>68kg</td>\n",
       "      <td>Right</td>\n",
       "      <td>LW</td>\n",
       "      <td>€132M</td>\n",
       "      <td>NaN</td>\n",
       "      <td>€270K</td>\n",
       "    </tr>\n",
       "  </tbody>\n",
       "</table>\n",
       "</div>"
      ],
      "text/plain": [
       "                       LongName Nationality  Age  ↓OVA  \\\n",
       "0                  Lionel Messi   Argentina   33    93   \n",
       "1  C. Ronaldo dos Santos Aveiro    Portugal   35    92   \n",
       "2                     Jan Oblak    Slovenia   27    91   \n",
       "3               Kevin De Bruyne     Belgium   29    91   \n",
       "4    Neymar da Silva Santos Jr.      Brazil   28    91   \n",
       "\n",
       "                          Club        Joined     Contract Height Weight  \\\n",
       "0         \\n\\n\\n\\nFC Barcelona   Jul 1, 2004  2004 ~ 2021  170cm   72kg   \n",
       "1             \\n\\n\\n\\nJuventus  Jul 10, 2018  2018 ~ 2022  187cm   83kg   \n",
       "2      \\n\\n\\n\\nAtlético Madrid  Jul 16, 2014  2014 ~ 2023  188cm   87kg   \n",
       "3      \\n\\n\\n\\nManchester City  Aug 30, 2015  2015 ~ 2023  181cm   70kg   \n",
       "4  \\n\\n\\n\\nParis Saint-Germain   Aug 3, 2017  2017 ~ 2022  175cm   68kg   \n",
       "\n",
       "  Preferred Foot Best Position    Value Loan Date End   Wage  \n",
       "0           Left            RW  €103.5M           NaN  €560K  \n",
       "1          Right            ST     €63M           NaN  €220K  \n",
       "2          Right            GK    €120M           NaN  €125K  \n",
       "3          Right           CAM    €129M           NaN  €370K  \n",
       "4          Right            LW    €132M           NaN  €270K  "
      ]
     },
     "execution_count": 21,
     "metadata": {},
     "output_type": "execute_result"
    }
   ],
   "source": [
    "df.head()"
   ]
  },
  {
   "attachments": {},
   "cell_type": "markdown",
   "metadata": {},
   "source": [
    "#### Club\n",
    "> There is a need to remove all the \\n in front of the club name for this column."
   ]
  },
  {
   "cell_type": "code",
   "execution_count": 22,
   "metadata": {},
   "outputs": [],
   "source": [
    "df['Club'] = df['Club'].map(lambda x: x.lstrip('\\n'))"
   ]
  },
  {
   "cell_type": "code",
   "execution_count": 23,
   "metadata": {},
   "outputs": [
    {
     "data": {
      "text/plain": [
       "0           FC Barcelona\n",
       "1               Juventus\n",
       "2        Atlético Madrid\n",
       "3        Manchester City\n",
       "4    Paris Saint-Germain\n",
       "Name: Club, dtype: object"
      ]
     },
     "execution_count": 23,
     "metadata": {},
     "output_type": "execute_result"
    }
   ],
   "source": [
    "df['Club'].head()"
   ]
  },
  {
   "attachments": {},
   "cell_type": "markdown",
   "metadata": {},
   "source": [
    "#### Joined"
   ]
  },
  {
   "cell_type": "code",
   "execution_count": 24,
   "metadata": {},
   "outputs": [
    {
     "name": "stdout",
     "output_type": "stream",
     "text": [
      "<class 'pandas.core.series.Series'>\n",
      "Int64Index: 18852 entries, 0 to 18978\n",
      "Series name: Joined\n",
      "Non-Null Count  Dtype \n",
      "--------------  ----- \n",
      "18852 non-null  object\n",
      "dtypes: object(1)\n",
      "memory usage: 294.6+ KB\n"
     ]
    }
   ],
   "source": [
    "df['Joined'].info()"
   ]
  },
  {
   "attachments": {},
   "cell_type": "markdown",
   "metadata": {},
   "source": [
    "This column refers to the date that the players joined the football club they are playing for. \n",
    "\n",
    "The column datatype needs to be change to date instead of object."
   ]
  },
  {
   "cell_type": "code",
   "execution_count": 27,
   "metadata": {},
   "outputs": [],
   "source": [
    "from datetime import datetime"
   ]
  },
  {
   "cell_type": "code",
   "execution_count": 29,
   "metadata": {},
   "outputs": [],
   "source": [
    "df['Joined'] = pd.to_datetime(df['Joined'])"
   ]
  },
  {
   "cell_type": "code",
   "execution_count": 31,
   "metadata": {},
   "outputs": [
    {
     "data": {
      "text/plain": [
       "0   2004-07-01\n",
       "1   2018-07-10\n",
       "2   2014-07-16\n",
       "3   2015-08-30\n",
       "4   2017-08-03\n",
       "Name: Joined, dtype: datetime64[ns]"
      ]
     },
     "execution_count": 31,
     "metadata": {},
     "output_type": "execute_result"
    }
   ],
   "source": [
    "df['Joined'].head()"
   ]
  },
  {
   "cell_type": "markdown",
   "metadata": {},
   "source": [
    "#### Contract"
   ]
  },
  {
   "cell_type": "code",
   "execution_count": 32,
   "metadata": {},
   "outputs": [
    {
     "data": {
      "text/plain": [
       "0    2004 ~ 2021\n",
       "1    2018 ~ 2022\n",
       "2    2014 ~ 2023\n",
       "3    2015 ~ 2023\n",
       "4    2017 ~ 2022\n",
       "Name: Contract, dtype: object"
      ]
     },
     "execution_count": 32,
     "metadata": {},
     "output_type": "execute_result"
    }
   ],
   "source": [
    "df['Contract'].head()"
   ]
  },
  {
   "attachments": {},
   "cell_type": "markdown",
   "metadata": {},
   "source": [
    "Considering the format of the *Contract* column, the column will be divided into two column to short the start and the end of the contract then the difference will be calculated to get the exact contract per year. "
   ]
  },
  {
   "cell_type": "code",
   "execution_count": 34,
   "metadata": {},
   "outputs": [],
   "source": [
    "# dividing the column into to with a delimeter ( ~ )\n",
    "df[['Start','Last']] = df.Contract.str.split(\" ~ \",expand=True)"
   ]
  },
  {
   "cell_type": "code",
   "execution_count": 41,
   "metadata": {},
   "outputs": [
    {
     "data": {
      "text/plain": [
       "0        2004\n",
       "1        2018\n",
       "2        2014\n",
       "3        2015\n",
       "4        2017\n",
       "         ... \n",
       "18974    2018\n",
       "18975    2020\n",
       "18976    2019\n",
       "18977    2020\n",
       "18978    2019\n",
       "Name: Start, Length: 18852, dtype: object"
      ]
     },
     "execution_count": 41,
     "metadata": {},
     "output_type": "execute_result"
    }
   ],
   "source": [
    "df['Start']"
   ]
  },
  {
   "cell_type": "code",
   "execution_count": 38,
   "metadata": {},
   "outputs": [
    {
     "data": {
      "text/plain": [
       "0    2021\n",
       "1    2022\n",
       "2    2023\n",
       "3    2023\n",
       "4    2022\n",
       "Name: Last, dtype: object"
      ]
     },
     "execution_count": 38,
     "metadata": {},
     "output_type": "execute_result"
    }
   ],
   "source": [
    "df['Last'].head()"
   ]
  },
  {
   "cell_type": "code",
   "execution_count": 43,
   "metadata": {},
   "outputs": [
    {
     "data": {
      "text/plain": [
       "array(['2004 ~ 2021', '2018 ~ 2022', '2014 ~ 2023', '2015 ~ 2023',\n",
       "       '2017 ~ 2022', '2017 ~ 2023', '2018 ~ 2024', '2014 ~ 2022',\n",
       "       '2018 ~ 2023', '2016 ~ 2023', '2013 ~ 2023', '2011 ~ 2023',\n",
       "       '2009 ~ 2022', '2005 ~ 2021', '2011 ~ 2021', '2015 ~ 2022',\n",
       "       '2017 ~ 2024', '2010 ~ 2024', '2012 ~ 2021', '2019 ~ 2024',\n",
       "       '2015 ~ 2024', '2017 ~ 2025', '2020 ~ 2025', '2019 ~ 2023',\n",
       "       '2008 ~ 2023', '2015 ~ 2021', '2020 ~ 2022', '2012 ~ 2022',\n",
       "       '2016 ~ 2025', '2013 ~ 2022', '2011 ~ 2022', '2012 ~ 2024',\n",
       "       '2016 ~ 2021', '2012 ~ 2023', '2008 ~ 2022', '2019 ~ 2022',\n",
       "       '2017 ~ 2021', '2013 ~ 2024', '2020 ~ 2024', '2010 ~ 2022',\n",
       "       '2020 ~ 2021', '2011 ~ 2024', '2020 ~ 2023', '2014 ~ 2024',\n",
       "       '2013 ~ 2026', '2016 ~ 2022', '2010 ~ 2021', '2013 ~ 2021',\n",
       "       '2019 ~ 2025', '2018 ~ 2025', '2016 ~ 2024', '2018 ~ 2021',\n",
       "       '2009 ~ 2024', '2007 ~ 2022', 'Jun 30, 2021 On Loan',\n",
       "       '2009 ~ 2021', '2019 ~ 2021', '2019 ~ 2026', 'Free', '2012 ~ 2028',\n",
       "       '2010 ~ 2023', '2014 ~ 2021', '2015 ~ 2025', '2014 ~ 2026',\n",
       "       '2012 ~ 2025', '2017 ~ 2020', '2002 ~ 2022', '2020 ~ 2027',\n",
       "       '2013 ~ 2025', 'Dec 31, 2020 On Loan', '2019 ~ 2020',\n",
       "       '2011 ~ 2025', '2016 ~ 2020', '2007 ~ 2021', '2020 ~ 2026',\n",
       "       '2010 ~ 2025', '2009 ~ 2023', '2008 ~ 2021', '2020 ~ 2020',\n",
       "       '2016 ~ 2026', 'Jan 30, 2021 On Loan', '2012 ~ 2020',\n",
       "       '2014 ~ 2025', 'Jun 30, 2022 On Loan', '2015 ~ 2020',\n",
       "       'May 31, 2021 On Loan', '2018 ~ 2020', '2014 ~ 2020',\n",
       "       '2013 ~ 2020', '2006 ~ 2024', 'Jul 5, 2021 On Loan',\n",
       "       'Dec 31, 2021 On Loan', '2004 ~ 2025', '2011 ~ 2020',\n",
       "       'Jul 1, 2021 On Loan', 'Jan 1, 2021 On Loan', '2006 ~ 2023',\n",
       "       'Aug 31, 2021 On Loan', '2006 ~ 2021', '2005 ~ 2023',\n",
       "       '2003 ~ 2020', '2009 ~ 2020', '2002 ~ 2020', '2005 ~ 2020',\n",
       "       '2005 ~ 2022', 'Jan 31, 2021 On Loan', '2010 ~ 2020',\n",
       "       'Dec 30, 2021 On Loan', '2008 ~ 2020', '2007 ~ 2020',\n",
       "       '2003 ~ 2021', 'Jun 23, 2021 On Loan', 'Jan 3, 2021 On Loan',\n",
       "       'Nov 27, 2021 On Loan', '2002 ~ 2021', 'Jan 17, 2021 On Loan',\n",
       "       'Jun 30, 2023 On Loan', '1998 ~ 2021', '2003 ~ 2022',\n",
       "       '2007 ~ 2023', 'Jul 31, 2021 On Loan', 'Nov 22, 2020 On Loan',\n",
       "       'May 31, 2022 On Loan', '2006 ~ 2020', 'Dec 30, 2020 On Loan',\n",
       "       '2007 ~ 2025', 'Jan 4, 2021 On Loan', 'Nov 30, 2020 On Loan',\n",
       "       '2004 ~ 2020', '2009 ~ 2025', 'Aug 1, 2021 On Loan'], dtype=object)"
      ]
     },
     "execution_count": 43,
     "metadata": {},
     "output_type": "execute_result"
    }
   ],
   "source": [
    "df['Contract'].unique()"
   ]
  },
  {
   "cell_type": "code",
   "execution_count": 48,
   "metadata": {},
   "outputs": [
    {
     "data": {
      "text/plain": [
       "array(['2004', '2018', '2014', '2015', '2017', '2016', '2013', '2011',\n",
       "       '2009', '2005', '2010', '2012', '2019', '2020', '2008', '2007',\n",
       "       'Jun 30, 2021 On Loan', 'Free', '2002', 'Dec 31, 2020 On Loan',\n",
       "       'Jan 30, 2021 On Loan', 'Jun 30, 2022 On Loan',\n",
       "       'May 31, 2021 On Loan', '2006', 'Jul 5, 2021 On Loan',\n",
       "       'Dec 31, 2021 On Loan', 'Jul 1, 2021 On Loan',\n",
       "       'Jan 1, 2021 On Loan', 'Aug 31, 2021 On Loan', '2003',\n",
       "       'Jan 31, 2021 On Loan', 'Dec 30, 2021 On Loan',\n",
       "       'Jun 23, 2021 On Loan', 'Jan 3, 2021 On Loan',\n",
       "       'Nov 27, 2021 On Loan', 'Jan 17, 2021 On Loan',\n",
       "       'Jun 30, 2023 On Loan', '1998', 'Jul 31, 2021 On Loan',\n",
       "       'Nov 22, 2020 On Loan', 'May 31, 2022 On Loan',\n",
       "       'Dec 30, 2020 On Loan', 'Jan 4, 2021 On Loan',\n",
       "       'Nov 30, 2020 On Loan', 'Aug 1, 2021 On Loan'], dtype=object)"
      ]
     },
     "execution_count": 48,
     "metadata": {},
     "output_type": "execute_result"
    }
   ],
   "source": [
    "df['Start'].unique()"
   ]
  },
  {
   "cell_type": "code",
   "execution_count": 45,
   "metadata": {},
   "outputs": [
    {
     "data": {
      "text/plain": [
       "array(['2021', '2022', '2023', '2024', '2025', '2026', None, '2028',\n",
       "       '2020', '2027'], dtype=object)"
      ]
     },
     "execution_count": 45,
     "metadata": {},
     "output_type": "execute_result"
    }
   ],
   "source": [
    "df['Last'].unique()"
   ]
  },
  {
   "cell_type": "code",
   "execution_count": 46,
   "metadata": {},
   "outputs": [],
   "source": [
    "# converting the *Start* and *Last* column to int\n",
    "\n",
    "df['Last'] = pd.to_numeric(df['Last'])"
   ]
  },
  {
   "cell_type": "code",
   "execution_count": null,
   "metadata": {},
   "outputs": [],
   "source": [
    "print"
   ]
  }
 ],
 "metadata": {
  "kernelspec": {
   "display_name": "Python 3",
   "language": "python",
   "name": "python3"
  },
  "language_info": {
   "codemirror_mode": {
    "name": "ipython",
    "version": 3
   },
   "file_extension": ".py",
   "mimetype": "text/x-python",
   "name": "python",
   "nbconvert_exporter": "python",
   "pygments_lexer": "ipython3",
   "version": "3.10.9"
  },
  "orig_nbformat": 4,
  "vscode": {
   "interpreter": {
    "hash": "d156095e312c84ad72dd8054fe16ac7a28e5efbe9575aa62519b52bfe6a24a85"
   }
  }
 },
 "nbformat": 4,
 "nbformat_minor": 2
}
